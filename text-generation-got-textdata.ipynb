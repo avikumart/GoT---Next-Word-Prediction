{
 "cells": [
  {
   "cell_type": "code",
   "execution_count": 1,
   "id": "779c71c9",
   "metadata": {
    "_cell_guid": "b1076dfc-b9ad-4769-8c92-a6c4dae69d19",
    "_uuid": "8f2839f25d086af736a60e9eeb907d3b93b6e0e5",
    "execution": {
     "iopub.execute_input": "2023-01-12T14:05:32.635997Z",
     "iopub.status.busy": "2023-01-12T14:05:32.635325Z",
     "iopub.status.idle": "2023-01-12T14:05:32.655126Z",
     "shell.execute_reply": "2023-01-12T14:05:32.653871Z"
    },
    "papermill": {
     "duration": 0.025939,
     "end_time": "2023-01-12T14:05:32.657225",
     "exception": false,
     "start_time": "2023-01-12T14:05:32.631286",
     "status": "completed"
    },
    "tags": []
   },
   "outputs": [
    {
     "name": "stdout",
     "output_type": "stream",
     "text": [
      "/kaggle/input/game-of-thrones-dataset-text-generation/got1.txt\n"
     ]
    }
   ],
   "source": [
    "import numpy as np\n",
    "import pandas as pd \n",
    "\n",
    "import os\n",
    "for dirname, _, filenames in os.walk('/kaggle/input'):\n",
    "    for filename in filenames:\n",
    "        print(os.path.join(dirname, filename))"
   ]
  },
  {
   "cell_type": "code",
   "execution_count": 2,
   "id": "d3474258",
   "metadata": {
    "execution": {
     "iopub.execute_input": "2023-01-12T14:05:32.662269Z",
     "iopub.status.busy": "2023-01-12T14:05:32.661827Z",
     "iopub.status.idle": "2023-01-12T14:05:32.689813Z",
     "shell.execute_reply": "2023-01-12T14:05:32.689057Z"
    },
    "papermill": {
     "duration": 0.033136,
     "end_time": "2023-01-12T14:05:32.692176",
     "exception": false,
     "start_time": "2023-01-12T14:05:32.659040",
     "status": "completed"
    },
    "tags": []
   },
   "outputs": [],
   "source": [
    "def read_file(filename):\n",
    "    file = open(filename, 'r')\n",
    "    text = file.read()\n",
    "    file.close()\n",
    "    return text\n",
    "\n",
    "data = read_file('/kaggle/input/game-of-thrones-dataset-text-generation/got1.txt')"
   ]
  }
 ],
 "metadata": {
  "kernelspec": {
   "display_name": "Python 3",
   "language": "python",
   "name": "python3"
  },
  "language_info": {
   "codemirror_mode": {
    "name": "ipython",
    "version": 3
   },
   "file_extension": ".py",
   "mimetype": "text/x-python",
   "name": "python",
   "nbconvert_exporter": "python",
   "pygments_lexer": "ipython3",
   "version": "3.7.12"
  },
  "papermill": {
   "default_parameters": {},
   "duration": 8.134383,
   "end_time": "2023-01-12T14:05:33.313716",
   "environment_variables": {},
   "exception": null,
   "input_path": "__notebook__.ipynb",
   "output_path": "__notebook__.ipynb",
   "parameters": {},
   "start_time": "2023-01-12T14:05:25.179333",
   "version": "2.3.4"
  }
 },
 "nbformat": 4,
 "nbformat_minor": 5
}
